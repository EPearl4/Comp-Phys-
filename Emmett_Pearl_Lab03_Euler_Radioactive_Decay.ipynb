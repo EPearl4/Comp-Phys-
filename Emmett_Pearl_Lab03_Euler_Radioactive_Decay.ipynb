{
  "nbformat": 4,
  "nbformat_minor": 0,
  "metadata": {
    "colab": {
      "provenance": [],
      "include_colab_link": true
    },
    "kernelspec": {
      "name": "python3",
      "display_name": "Python 3"
    },
    "language_info": {
      "name": "python"
    }
  },
  "cells": [
    {
      "cell_type": "markdown",
      "metadata": {
        "id": "view-in-github",
        "colab_type": "text"
      },
      "source": [
        "<a href=\"https://colab.research.google.com/github/EPearl4/Comp-Phys-/blob/main/Emmett_Pearl_Lab03_Euler_Radioactive_Decay.ipynb\" target=\"_parent\"><img src=\"https://colab.research.google.com/assets/colab-badge.svg\" alt=\"Open In Colab\"/></a>"
      ]
    },
    {
      "cell_type": "markdown",
      "source": [
        "# Lab 3: The Euler Method for Integrating Ordinary Differential Equantions\n",
        "\n",
        "*Written by Rose Finn*\n",
        "\n",
        "*Adapted from Giordano and Nakanishi, [Computational Physics](https://www.physics.purdue.edu/~hisao/book/), Chapter 1*\n",
        "\n",
        "# Overview\n",
        "\n",
        "The goal of this lab is to use the **Euler method** to model system that are changing with time.  If we can describe how the system changes with time, then we can determine how the system changes by stepping it forward in time using  tiny intervals of time.  This is the basic idea behind the Euler method."
      ],
      "metadata": {
        "id": "dXQCRRvekktg"
      }
    },
    {
      "cell_type": "code",
      "source": [
        "# import numpy and pyplot here\n",
        "import numpy as np\n",
        "from matplotlib import pyplot as plt"
      ],
      "metadata": {
        "id": "DhigXHbty-Oc"
      },
      "execution_count": 29,
      "outputs": []
    },
    {
      "cell_type": "markdown",
      "source": [
        "# Function Warm Up\n",
        "\n",
        "(5 points)\n",
        "\n",
        "Before starting the lab, we will do one problem to keep building our function-writing skills.\n",
        "\n",
        "**The problem**: Write a function that calculates the mean and standard deviation for a list of numbers.  Hint: the functions `np.mean()` and `np.std()` should be useful!\n",
        "\n",
        "Function requirements:\n",
        "* input = list/array of numbers\n",
        "* return = mean, std\n",
        "\n",
        "Be sure to include a descriptive comment string at the beginning of your function.\n"
      ],
      "metadata": {
        "id": "PEwzUWrOYKp8"
      }
    },
    {
      "cell_type": "code",
      "source": [
        "# your function here\n",
        "def mean_std (numbers):\n",
        "  mean= np.mean(numbers)\n",
        "  std = np.std(numbers)\n",
        "  return mean, std\n"
      ],
      "metadata": {
        "id": "8bmRFkisYJ2y"
      },
      "execution_count": 30,
      "outputs": []
    },
    {
      "cell_type": "code",
      "source": [
        "\n",
        "myvalues = np.random.normal(size=100,loc=100,scale=20)\n",
        "\n",
        "# Feed the following array into your function\n",
        "test_mean=mean_std(myvalues)\n",
        "print(test_mean)\n",
        "\n",
        "# print out the mean and standard deviation\n",
        "# use a formatted print statement to print two decimal places\n",
        "print(f'This is the mean {test_mean[0]:.2f}')\n",
        "print(f'This is the Standard Deviation{test_mean[1]:.2f}')"
      ],
      "metadata": {
        "id": "v0E8n2wtyej1",
        "colab": {
          "base_uri": "https://localhost:8080/"
        },
        "outputId": "3422598a-c515-4ee9-c5c3-a3b7ea98c002"
      },
      "execution_count": 31,
      "outputs": [
        {
          "output_type": "stream",
          "name": "stdout",
          "text": [
            "(98.50694642381507, 19.255192516161177)\n",
            "This is the mean 98.51\n",
            "This is the Standard Deviation19.26\n"
          ]
        }
      ]
    },
    {
      "cell_type": "markdown",
      "source": [
        "# Radioactive Decay\n",
        "\n",
        "We will use the Euler method to calculate how many radioactive nuclei survive as a function of time.  We talked about Uranium 235, but this could apply to any radioactive nuclei.  In fact, this could apply to anything that is experiencing an exponential decay.\n",
        "\n",
        "## Differential Equation Described How $N_U$ Changes With Time\n",
        "\n",
        "The equation that describes how the number of surviving nuclei changes with time is:\n",
        "\n",
        "$$ \\frac{dN}{dt} = - \\frac{N}{\\tau} $$\n",
        "\n",
        "where\n",
        "* N = number of nuclei present\n",
        "* $\\tau$ = half-live of the nuclei\n",
        "\n",
        "We can solve this particular [`Ordinary Differential Equation`](https://en.wikipedia.org/wiki/Ordinary_differential_equation) by separating variables and integrating:\n",
        "\n",
        "1. Separate variables\n",
        "$$ \\frac{dN}{N} = - \\frac{dt}{\\tau} $$\n",
        "2. Integrate\n",
        "$$ \\int_{N_0}^N \\frac{dN}{N} = - \\int_0^t \\frac{dt}{\\tau} $$\n",
        "$$ ln(N/N_0) = -\\frac{1}{\\tau} t $$\n",
        "3. Raise each side to the exponential\n",
        "$$ e^{ln(N/N_0)} = e^{-\\frac{1}{\\tau} t} $$\n",
        "$$ N/N_0 = e^{-\\frac{t}{\\tau}} $$\n",
        "4. This gives the analytic solution to how the number of nuclei changes with time:\n",
        "$$ N(t) = N_0 e^{-\\frac{t}{\\tau}} $$\n",
        "\n",
        "So although we can solve this equation analytically, it is a nice example to use for illustrating how the Euler method works.\n",
        "\n",
        "## Euler Method\n",
        "\n",
        "We can write the Taylor Expansion for $N(t)$ as\n",
        "\n",
        "$$ N(t + Δt) ≈ N(t) + \\frac{dN}{dt} \\Delta t $$\n",
        "\n",
        "We can then substitute $ \\frac{dN}{dt} = - \\frac{N}{\\tau} $ to get\n",
        "\n",
        "$$ N(t + Δt) ≈ N(t) - \\frac{N}{\\tau} \\Delta t $$\n",
        "\n",
        "Below you will write the functions that we need to calculate how the number of surviving Uranium nuclei ($N_U$) changes with time."
      ],
      "metadata": {
        "id": "UYM2PWqTXsLg"
      }
    },
    {
      "cell_type": "markdown",
      "source": [
        "\n",
        "### Write function to set up the time and number arrays\n",
        "\n",
        "(5 points)\n",
        "\n",
        "Write a function **initialize** that has the following.\n",
        "\n",
        "* input\n",
        "  * N0 = initial number of nuclei\n",
        "  * tau = decay half-life of the nuclei\n",
        "  * tmax = how long to calculate N and time\n",
        "  * dt = the time step to use for advancing the system\n",
        "\n",
        "* the function will\n",
        "  * calculate nsteps (this is tmax/dt), and make sure nsteps in an integer.\n",
        "  * define arrays for time *t* and the number of surviving nuclei *n_nuclei*.  These array should initially be set to zero, and they should have be *nsteps* long.\n",
        "  * set the first element of *n_nuclei* to N0\n",
        "\n",
        "* return\n",
        "  * *t, n_nuclei* arrays"
      ],
      "metadata": {
        "id": "_Aw1HhF-y6T7"
      }
    },
    {
      "cell_type": "code",
      "source": [
        "# write function initialize here\n",
        "#This function will set up the time and number of surviving nuclei\n",
        "def initialize (N0,tau,tmax,dt):\n",
        "  nsteps=int(tmax/dt)\n",
        "  t= np.zeros(nsteps)\n",
        "  n_nuclei= np.zeros(nsteps)\n",
        "  n_nuclei[0]=N0\n",
        "  return t, n_nuclei\n"
      ],
      "metadata": {
        "id": "rAl4eHOJXsej"
      },
      "execution_count": 47,
      "outputs": []
    },
    {
      "cell_type": "markdown",
      "source": [
        "### Write function to implement Euler calculation\n",
        "\n",
        "(5 points)\n",
        "\n",
        "Write a function **calculate** that does the following:\n",
        "\n",
        "* input\n",
        "  * time array, *t*\n",
        "  * array containing the number of surviving nuclei at each time step, *n_nuclei*\n",
        "  * dt\n",
        "  * tau\n",
        "\n",
        "\n",
        "* the function will\n",
        "  * loop over arrays and calculate:\n",
        "\n",
        "  ```\n",
        "  n_nuclei[i] = n_nuclei[i-1] - n_nuclei[i-1]/tau * dt\n",
        "  t[i] = t[i-1] + dt\n",
        "  ```  \n",
        "\n",
        "* return\n",
        "  *  *t, n_nuclei* arrays"
      ],
      "metadata": {
        "id": "uXf9Tr_e0X_2"
      }
    },
    {
      "cell_type": "code",
      "source": [
        "# write your calculate function here\n",
        "\n",
        "def calcualte (t,n_nuclei,dt,tau):\n",
        "  for i in range(1,len(t)):\n",
        "    t[i] = t[i-1] + dt\n",
        "    n_nuclei[i] = n_nuclei[i-1] - n_nuclei[i-1]/tau * dt\n",
        "  return t, n_nuclei\n",
        "\n",
        "\n"
      ],
      "metadata": {
        "id": "PkuO7SiY2PQS"
      },
      "execution_count": 48,
      "outputs": []
    },
    {
      "cell_type": "markdown",
      "source": [
        "### Running your code\n",
        "\n",
        "(5 points)\n",
        "\n",
        "You now just need to set up the initial values and call your functions.\n",
        "\n",
        "Give the variables the following values:\n",
        "\n",
        "* start with 100 nuclei\n",
        "* set the decay half-life to 1 second\n",
        "* set tmax to 5 seconds\n",
        "* use a time step of 0.05 s\n",
        "\n",
        "When you are finished, check your code with your instructor or LA."
      ],
      "metadata": {
        "id": "nPbJ5zDO2Uv4"
      }
    },
    {
      "cell_type": "code",
      "source": [
        "############################################################\n",
        "# This is your main program that will call the functions.\n",
        "############################################################\n",
        "\n",
        "\n",
        "\n",
        "# define initial values\n",
        "N0 = 100\n",
        "tau = 1\n",
        "tmax = 5\n",
        "dt = .05\n",
        "\n",
        "# call initialize function\n",
        "initial= initialize (N0,tau,tmax,dt)\n",
        "\n",
        "# call your calculate function\n",
        "calc = calcualte (initial[0],initial[1],dt,tau)\n"
      ],
      "metadata": {
        "id": "04z99_ug6Tru"
      },
      "execution_count": 49,
      "outputs": []
    },
    {
      "cell_type": "markdown",
      "source": [
        "### Visualizing your results\n",
        "\n",
        "(5 points)\n",
        "\n",
        "* Make a plot of the number of nuclei versus time.\n",
        "* Plot the analytic solution for comparison.\n",
        "\n",
        "Question:  How well do your calculated values compare with the analytic solution?"
      ],
      "metadata": {
        "id": "x9UmVQqb2XM3"
      }
    },
    {
      "cell_type": "code",
      "source": [
        "# plot the number of nuclei versus time using black squares\n",
        "figure = plt.figure()\n",
        "plt.plot(calc[0],calc[1], marker ='s', color='k')\n",
        "plt.title('Surviving Nuclei 0ver time')\n",
        "plt.xlabel('time')\n",
        "plt.ylabel('nuclei')\n",
        "# plot the analytic solution using a solid black line\n",
        "tline=np.linspace(0,tmax,100)\n",
        "yline=N0*np.exp(-tline/tau)\n",
        "plt.figure()\n",
        "plt.plot(tline,yline,'k-')\n",
        "plt.title('analytic solution')\n",
        "plt.xlabel('time')\n",
        "plt.ylabel('nuclei')\n"
      ],
      "metadata": {
        "id": "8kT6EoGu2alp",
        "colab": {
          "base_uri": "https://localhost:8080/",
          "height": 944
        },
        "outputId": "aceb2e4c-ab8c-4227-ae39-ad0459c6c8c1"
      },
      "execution_count": 59,
      "outputs": [
        {
          "output_type": "execute_result",
          "data": {
            "text/plain": [
              "Text(0, 0.5, 'nuclei')"
            ]
          },
          "metadata": {},
          "execution_count": 59
        },
        {
          "output_type": "display_data",
          "data": {
            "text/plain": [
              "<Figure size 640x480 with 1 Axes>"
            ],
            "image/png": "[encoded data removed]"
          },
          "metadata": {}
        },
        {
          "output_type": "display_data",
          "data": {
            "text/plain": [
              "<Figure size 640x480 with 1 Axes>"
            ],
            "image/png": "[encoded data removed]"
          },
          "metadata": {}
        }
      ]
    },
    {
      "cell_type": "markdown",
      "source": [
        "### Investigating how the timesteps affect the accuracy of the approximation\n",
        "\n",
        "(5 points)\n",
        "\n",
        "You should find that your calculated values do a good job at recovering the analytic solution.  In this section we will see how the results are affected if we choose a different value for dt.\n",
        "\n",
        "Specifically, you should calculate the number of nuclei versus time using a time steps of 0.05 sec, 0.2 sec, and 0.5 sec.  Save the output as different names so you can plot all three together with the analytic solution.\n",
        "\n",
        "Plot the results.\n",
        "* plot the analytic solution with a line.\n",
        "* plot the results from the Euler approximation with points, and use different colors and shapes for each time step.\n",
        "* Make sure your plot has a legend that describes"
      ],
      "metadata": {
        "id": "f6dElRQT2bhX"
      }
    },
    {
      "cell_type": "code",
      "source": [
        "# code to get number of nuclei and time for dt = 0.05 s\n",
        "dt1 = .05\n",
        "initial1= initialize (N0,tau,tmax,dt1)\n",
        "calc1 = calcualte (initial[0],initial[1],dt1,tau)\n",
        "\n",
        "# code to get number of nuclei and time for dt = 0.2 s\n",
        "dt2 = .2\n",
        "initial2= initialize (N0,tau,tmax,dt2)\n",
        "calc2 = calcualte (initial[0],initial[1],dt2,tau)\n",
        "\n",
        "# code to get number of nuclei and time for dt = 0.5 s\n",
        "dt3 = .5\n",
        "initial3= initialize (N0,tau,tmax,dt3)\n",
        "calc3 = calcualte (initial[0],initial[1],dt3,tau)"
      ],
      "metadata": {
        "id": "d109Cw-d2aRb"
      },
      "execution_count": 61,
      "outputs": []
    },
    {
      "cell_type": "code",
      "source": [
        "# code to plot the 3 different results\n",
        "figure = plt.figure()\n",
        "plt.plot(calc1[0],calc1[1],'gs',label='dt=.05')\n",
        "plt.plot(calc2[0],calc2[1],'bo',label='dt=.2')\n",
        "plt.plot(calc3[0],calc3[1],'vy',label='dt=.5')\n",
        "plt.plot(tline,yline,'k-',label='analytic')\n",
        "plt.title('Surviving Nuclei 0ver time')\n",
        "plt.xlabel('time')\n",
        "plt.ylabel('nuclei')\n",
        "plt.legend()\n",
        "\n",
        "# code to plot the analytic solution\n",
        "\n"
      ],
      "metadata": {
        "id": "Wm5zwwjJ2Rqa",
        "colab": {
          "base_uri": "https://localhost:8080/",
          "height": 489
        },
        "outputId": "6c3231c8-6892-422c-ccb1-5ddcf130d834"
      },
      "execution_count": 82,
      "outputs": [
        {
          "output_type": "execute_result",
          "data": {
            "text/plain": [
              "<matplotlib.legend.Legend at 0x7b24db331540>"
            ]
          },
          "metadata": {},
          "execution_count": 82
        },
        {
          "output_type": "display_data",
          "data": {
            "text/plain": [
              "<Figure size 640x480 with 1 Axes>"
            ],
            "image/png": "[encoded data removed]"
          },
          "metadata": {}
        }
      ]
    },
    {
      "cell_type": "markdown",
      "source": [
        "# Summarize Your Results\n",
        "\n",
        "\n",
        "\n",
        "Complete your wiki page for this lab.  Your wiki should have the following elements.\n",
        "\n",
        "## Background\n",
        "1. Define what an ordinary differential equation is.\n",
        "1. Describe what a Taylor Expansion is and why it is useful\n",
        "1. Describe the general form of the Euler Method and why this is useful for approximating a solution to a differential equation\n",
        "\n",
        "## This Lab\n",
        "1. Describe how we apply the Euler method to approximate how the number of Uranium atoms declines as a function of time.\n",
        "1. Note that in this particular example, we can solve the equation analytically.  Nonetheless, this provides a nice way to introduce the Euler method and examine how some of our numerical choices affect the accuracy of our result.\n",
        "1. Describe does the time step in the Euler method affect the accuracy of your results.  Include the graph that illustrates how the time step affects the accuracy of your results."
      ],
      "metadata": {
        "id": "nLlgBn0P-Aq3"
      }
    },
    {
      "cell_type": "code",
      "source": [],
      "metadata": {
        "id": "51_YWYJd35Ts"
      },
      "execution_count": null,
      "outputs": []
    }
  ]
}
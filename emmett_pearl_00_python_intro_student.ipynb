{
  "nbformat": 4,
  "nbformat_minor": 0,
  "metadata": {
    "colab": {
      "provenance": [],
      "include_colab_link": true
    },
    "kernelspec": {
      "name": "python3",
      "display_name": "Python 3"
    },
    "language_info": {
      "name": "python"
    }
  },
  "cells": [
    {
      "cell_type": "markdown",
      "metadata": {
        "id": "view-in-github",
        "colab_type": "text"
      },
      "source": [
        "<a href=\"https://colab.research.google.com/github/EPearl4/Comp-Phys-/blob/main/emmett_pearl_00_python_intro_student.ipynb\" target=\"_parent\"><img src=\"https://colab.research.google.com/assets/colab-badge.svg\" alt=\"Open In Colab\"/></a>"
      ]
    },
    {
      "cell_type": "code",
      "execution_count": null,
      "metadata": {
        "id": "kvsJXb9MqEbx"
      },
      "outputs": [],
      "source": []
    },
    {
      "cell_type": "markdown",
      "source": [
        "# Import modules\n",
        "\n",
        "```\n",
        "import numpy as np\n",
        "from matplotlib import pyplot as plt\n",
        "```"
      ],
      "metadata": {
        "id": "3W-irX9hqHyY"
      }
    },
    {
      "cell_type": "code",
      "source": [
        "# your code here\n",
        "\n",
        "\n",
        "import numpy as np\n",
        "from matplotlib import pyplot as plt\n"
      ],
      "metadata": {
        "id": "PUDGrE9RqNPo"
      },
      "execution_count": null,
      "outputs": []
    },
    {
      "cell_type": "markdown",
      "source": [
        "# Defining Variables\n",
        "\n",
        "### A single variable\n",
        "```\n",
        "x = 2\n",
        "```\n",
        "\n",
        "### A list\n",
        "A list can contain different types of elements: numbers, strings, array, tuples.\n",
        "```\n",
        "mynumbers = [1,2,3]\n",
        "```\n",
        "\n",
        "```\n",
        "myletters = ['a','b','c','d','e']\n",
        "```\n",
        "\n",
        "\n"
      ],
      "metadata": {
        "id": "tfvZlkCbqPz5"
      }
    },
    {
      "cell_type": "code",
      "source": [
        "# define a variable x and set it equal to 1\n",
        "x=1"
      ],
      "metadata": {
        "id": "RZ31vpmLqa4T"
      },
      "execution_count": null,
      "outputs": []
    },
    {
      "cell_type": "markdown",
      "source": [
        "# Printing\n",
        "\n",
        "Printing is so important when developing code.  If something is not working,\n",
        "you should insert print statements to check the values of your variables\n",
        "at different points in your code.\n",
        "\n",
        "The basic print format is:\n",
        "\n",
        "```\n",
        "print(\"This is a print statement.\")\n",
        "```"
      ],
      "metadata": {
        "id": "7tRzR95wqdzv"
      }
    },
    {
      "cell_type": "code",
      "source": [
        "# write a print statement to print \"hello world!\"\n",
        "print(\"hello world!\")"
      ],
      "metadata": {
        "id": "oLJF171arQ4Y",
        "colab": {
          "base_uri": "https://localhost:8080/"
        },
        "outputId": "6e88692a-9718-409c-845d-d8ae8e891998"
      },
      "execution_count": null,
      "outputs": [
        {
          "output_type": "stream",
          "name": "stdout",
          "text": [
            "hello world!\n"
          ]
        }
      ]
    },
    {
      "cell_type": "markdown",
      "source": [
        "# Formatting Printing\n",
        "\n",
        "Our variables often have a large number of decimal places, and you might not\n",
        "want to print the full number.  "
      ],
      "metadata": {
        "id": "li3daLSnrcl-"
      }
    },
    {
      "cell_type": "code",
      "source": [
        "# formatted print statement\n",
        "print(f\"the value of x = {x}\")"
      ],
      "metadata": {
        "id": "wbXTXLl1uGOy",
        "colab": {
          "base_uri": "https://localhost:8080/"
        },
        "outputId": "f16134b0-077d-4855-c541-9bfef41910bd"
      },
      "execution_count": null,
      "outputs": [
        {
          "output_type": "stream",
          "name": "stdout",
          "text": [
            "the value of x = 1\n"
          ]
        }
      ]
    },
    {
      "cell_type": "code",
      "source": [
        "np.pi"
      ],
      "metadata": {
        "colab": {
          "base_uri": "https://localhost:8080/"
        },
        "id": "qWAifoke6R6l",
        "outputId": "356fa20a-7cae-4d8c-8086-046dcfe11b61"
      },
      "execution_count": null,
      "outputs": [
        {
          "output_type": "execute_result",
          "data": {
            "text/plain": [
              "3.141592653589793"
            ]
          },
          "metadata": {},
          "execution_count": 9
        }
      ]
    },
    {
      "cell_type": "code",
      "source": [
        "print(f\"pi = {np.pi}\")"
      ],
      "metadata": {
        "colab": {
          "base_uri": "https://localhost:8080/"
        },
        "id": "m0ggSMYD6Roe",
        "outputId": "167a73a0-d254-472e-b22c-6708704225db"
      },
      "execution_count": null,
      "outputs": [
        {
          "output_type": "stream",
          "name": "stdout",
          "text": [
            "pi = 3.141592653589793\n"
          ]
        }
      ]
    },
    {
      "cell_type": "code",
      "source": [
        "print(f\"pi = {np.pi:.2f}\")"
      ],
      "metadata": {
        "colab": {
          "base_uri": "https://localhost:8080/"
        },
        "id": "lFQ_7awC5xct",
        "outputId": "ea8ef9dd-77c0-40db-fe24-0f0b7708820c"
      },
      "execution_count": null,
      "outputs": [
        {
          "output_type": "stream",
          "name": "stdout",
          "text": [
            "pi = 3.14\n"
          ]
        }
      ]
    },
    {
      "cell_type": "code",
      "source": [],
      "metadata": {
        "id": "E0qt82Zu6bG_"
      },
      "execution_count": null,
      "outputs": []
    },
    {
      "cell_type": "markdown",
      "source": [
        "# Functions\n",
        "\n",
        "Functions are chunks of code that can take input arguments and\n",
        "can return values.\n",
        "\n",
        "Here is a simple function that takes a number as an input and\n",
        "returns the number plus one and then prints the results.\n",
        "\n",
        "```\n",
        "def addone(x):\n",
        "    \"\"\"  this function adds one to the input number \"\"\"\n",
        "    x = x + 1\n",
        "    print(x)\n",
        "```"
      ],
      "metadata": {
        "id": "t8n87cLIuJsk"
      }
    },
    {
      "cell_type": "code",
      "source": [
        "# define the addone function here\n",
        "def addone(x):\n",
        "    \"\"\"  this function adds one to the input number \"\"\"\n",
        "    x = x + 1\n",
        "    return x"
      ],
      "metadata": {
        "id": "r8bSMEdrvRl5"
      },
      "execution_count": null,
      "outputs": []
    },
    {
      "cell_type": "markdown",
      "source": [
        "### Calling a function\n",
        "\n",
        "In the cell below, set `x=1` and pass `x` to `addone`.\n",
        "\n",
        "Then let's look at what happens to the value of x in the\n",
        "variable editor."
      ],
      "metadata": {
        "id": "ElWsHnE9vczc"
      }
    },
    {
      "cell_type": "code",
      "source": [
        "# define x =\n",
        "x = 1\n",
        "#pass x to function addone\n",
        "addone(x)\n",
        "\n",
        "print(f\"x={x}\")\n",
        "\n",
        "y = addone(x)\n",
        "print(f\"y={y}\")\n"
      ],
      "metadata": {
        "id": "zOjAknPIvVF9",
        "colab": {
          "base_uri": "https://localhost:8080/"
        },
        "outputId": "e684859b-a3e3-4d1b-b6ed-2e9e0eb77cf4"
      },
      "execution_count": null,
      "outputs": [
        {
          "output_type": "stream",
          "name": "stdout",
          "text": [
            "x=1\n",
            "y=2\n"
          ]
        }
      ]
    },
    {
      "cell_type": "markdown",
      "source": [
        "### Returning values from a function"
      ],
      "metadata": {
        "id": "e41blLTnvsut"
      }
    },
    {
      "cell_type": "code",
      "source": [
        "# update the addone funtion to:\n",
        "# print 2 decimal places\n",
        "# return the new value\n",
        "\n",
        "print(f\"y={y:.2f}\")"
      ],
      "metadata": {
        "id": "iMRz5wUUuYcc",
        "colab": {
          "base_uri": "https://localhost:8080/"
        },
        "outputId": "40fd92dd-3a9d-4c4d-cf70-20f727b9bb82"
      },
      "execution_count": null,
      "outputs": [
        {
          "output_type": "stream",
          "name": "stdout",
          "text": [
            "y=2.00\n"
          ]
        }
      ]
    },
    {
      "cell_type": "markdown",
      "source": [
        "# For Loops\n",
        "\n",
        "Let's set up an array to contain 10 values:\n",
        "```\n",
        "myvals = np.arange(10)\n",
        "```\n",
        "\n",
        "Now let's use a for loop to print out the number greater than 5.\n",
        "\n"
      ],
      "metadata": {
        "id": "3g7RUJ2bwsw5"
      }
    },
    {
      "cell_type": "code",
      "source": [
        "# your code here\n",
        "# for loop to print out numbers greater than 5\n",
        "myvals = np.arange(10)\n",
        "print(myvals)\n",
        "\n",
        "for v in myvals:\n",
        "  if v>5:\n",
        "    print(v)\n",
        "\n",
        "\n",
        "#for i in range(len(myvals)):\n",
        " # print(myvals[i])"
      ],
      "metadata": {
        "id": "Z6zyk-LUw1BT",
        "colab": {
          "base_uri": "https://localhost:8080/"
        },
        "outputId": "1fc371c1-7250-4f7c-b242-d977c2856655"
      },
      "execution_count": null,
      "outputs": [
        {
          "output_type": "stream",
          "name": "stdout",
          "text": [
            "[0 1 2 3 4 5 6 7 8 9]\n",
            "6\n",
            "7\n",
            "8\n",
            "9\n"
          ]
        }
      ]
    },
    {
      "cell_type": "markdown",
      "source": [
        "# While loops\n",
        "\n",
        "A `while` loop will continue until the conditional is not met.\n",
        "\n",
        "Let's write a while loop to keep incrementing a number until the number reaches 20."
      ],
      "metadata": {
        "id": "N-lEkNdexYFG"
      }
    },
    {
      "cell_type": "code",
      "source": [
        "# while loop to keep incrementing a number until the number reaches 20\n",
        "mynum = 0\n",
        "\n",
        "while mynum < 20:\n",
        "  mynum = mynum + 1\n",
        "\n",
        "print(f\"mynum = {mynum}\")"
      ],
      "metadata": {
        "id": "nLaKfZn3JXLq",
        "colab": {
          "base_uri": "https://localhost:8080/"
        },
        "outputId": "47281993-6a2e-4a20-a5ec-83ac1037c181"
      },
      "execution_count": null,
      "outputs": [
        {
          "output_type": "stream",
          "name": "stdout",
          "text": [
            "mynum = 20\n"
          ]
        }
      ]
    },
    {
      "cell_type": "markdown",
      "source": [
        "# Conditionals\n",
        "\n"
      ],
      "metadata": {
        "id": "7ZSXMMjfw3Zi"
      }
    },
    {
      "cell_type": "code",
      "source": [
        "# ask for an input number\n",
        "test_number = int(input(\"Enter a number between 1 and 10\\n\"))\n",
        "\n",
        "# if number is greater than 10, then reject input\n",
        "if (test_number >10):\n",
        "  print(\"This number is greater than 10\")\n",
        "\n",
        "\n",
        "# if number is less than 1, then reject input\n",
        "elif (test_number <1):\n",
        "  print(\"This number is greater than 1\")\n",
        "\n",
        "# if the user enters 7, print \"lucky guess\"\n",
        "elif (test_number == 7):\n",
        "  print(\"Lucky guess\")\n",
        "else:\n",
        "  print(\"not correct - better luck next time!\")\n",
        "# for all other numbers, print \"not correct - better luck next time!\""
      ],
      "metadata": {
        "id": "AiSellYDw2gG",
        "colab": {
          "base_uri": "https://localhost:8080/"
        },
        "outputId": "26217da0-7468-4cd1-86b6-fe9193e1023c"
      },
      "execution_count": null,
      "outputs": [
        {
          "output_type": "stream",
          "name": "stdout",
          "text": [
            "Enter a number between 1 and 10\n",
            "7\n",
            "Lucky guess\n"
          ]
        }
      ]
    },
    {
      "cell_type": "markdown",
      "source": [
        "# Basic Plotting\n",
        "\n",
        "Visualizing variables is essential for checking and understanding the results\n",
        "of any code that we write.\n",
        "\n",
        "We will start with a simple example to plot $y = 2 x^2$ over the range $0 \\le x \\le 10$."
      ],
      "metadata": {
        "id": "tSovgxtxyR7-"
      }
    },
    {
      "cell_type": "code",
      "source": [
        "# code to make plot here\n",
        "\n",
        "# define x using np.linspace\n",
        "x = np.linspace(0,10,100)\n",
        "# define y\n",
        "y = 2*x**2\n",
        "# open a figure\n",
        "plt.figure(figsize=(6,4))\n",
        "plt.subplot(1,2,1)\n",
        "# plot y vs x using plt.plot\n",
        "plt.plot(x,y)\n",
        "plt.plot(x,y,'cs',markersize=3,label= '$y=2x^2$')\n",
        "plt.xlabel('x')\n",
        "plt.ylabel('y')\n",
        "plt.title('The plot')\n",
        "plt.legend()\n",
        "# make another figure, but use plt.scatter instead of plt.plot\n",
        "#plt.figure(figsize=(6,4))\n",
        "plt.subplot(1,2,2)\n",
        "mycolor = np.arange(len(x))\n",
        "plt.scatter(x,y,c=mycolor,label='$y=2x^2$')\n",
        "plt.xlabel('x')\n",
        "plt.ylabel('y')\n",
        "plt.title('The plot')\n",
        "plt.legend()\n"
      ],
      "metadata": {
        "id": "K401UT-QzA4s",
        "colab": {
          "base_uri": "https://localhost:8080/",
          "height": 427
        },
        "outputId": "5334e2e3-5ce1-4a7d-b35a-e8163e2a7596"
      },
      "execution_count": null,
      "outputs": [
        {
          "output_type": "execute_result",
          "data": {
            "text/plain": [
              "<matplotlib.legend.Legend at 0x7820e83ce440>"
            ]
          },
          "metadata": {},
          "execution_count": 58
        },
        {
          "output_type": "display_data",
          "data": {
            "text/plain": [
              "<Figure size 600x400 with 2 Axes>"
            ],
            "image/png": "[encoded data removed]"
          },
          "metadata": {}
        }
      ]
    },
    {
      "cell_type": "code",
      "source": [],
      "metadata": {
        "id": "0Oa7EG-f0_AM"
      },
      "execution_count": null,
      "outputs": []
    }
  ]
}
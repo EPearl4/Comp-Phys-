{
  "nbformat": 4,
  "nbformat_minor": 0,
  "metadata": {
    "colab": {
      "provenance": [],
      "include_colab_link": true
    },
    "kernelspec": {
      "name": "python3",
      "display_name": "Python 3"
    }
  },
  "cells": [
    {
      "cell_type": "markdown",
      "metadata": {
        "id": "view-in-github",
        "colab_type": "text"
      },
      "source": [
        "<a href=\"https://colab.research.google.com/github/EPearl4/Comp-Phys-/blob/main/Emmett_Pearl_Lab01_review_of_notebook_and_python_basics.ipynb\" target=\"_parent\"><img src=\"https://colab.research.google.com/assets/colab-badge.svg\" alt=\"Open In Colab\"/></a>"
      ]
    },
    {
      "cell_type": "markdown",
      "metadata": {
        "id": "36eTMfu05klo"
      },
      "source": [
        "# Lab 1: Python Review\n",
        "\n",
        "The goal of this notebook is to help you review some of the basics of python.\n",
        "\n",
        "Specifically, you will review\n",
        "\n",
        "* python syntax\n",
        "* markdown\n",
        "* formatted printing\n",
        "* loops\n",
        "* conditionals\n",
        "* functions\n",
        "* basic plotting\n",
        "\n"
      ]
    },
    {
      "cell_type": "markdown",
      "source": [
        "\n",
        "# Fixer-upper\n",
        "\n",
        "Fix the code in the cells below...it's all broken!\n",
        "\n",
        "(1 point each)"
      ],
      "metadata": {
        "id": "ho0V0oXimSW9"
      }
    },
    {
      "cell_type": "markdown",
      "source": [],
      "metadata": {
        "id": "bXrwW0S133hX"
      }
    },
    {
      "cell_type": "code",
      "metadata": {
        "id": "7xWQl5iV5ZlR",
        "colab": {
          "base_uri": "https://localhost:8080/"
        },
        "outputId": "b0ce84d8-7d6f-4c1a-c1fc-beaef9d7a237"
      },
      "source": [
        "myage = 52 # Or fill in your age here\n",
        "\n",
        "print(f\"My age is {myage}\".format(myage))\n"
      ],
      "execution_count": 1,
      "outputs": [
        {
          "output_type": "stream",
          "name": "stdout",
          "text": [
            "My age is 52\n"
          ]
        }
      ]
    },
    {
      "cell_type": "code",
      "metadata": {
        "id": "_uqX-8oa50fF",
        "colab": {
          "base_uri": "https://localhost:8080/"
        },
        "outputId": "df3f6d2f-ba20-4641-d831-cad46de3b776"
      },
      "source": [
        "song = \"Believer\"\n",
        "artist = \"Imagine Dragons\"\n",
        "\n",
        "print(f\"{song} is sung by \\n\\t {artist}\")"
      ],
      "execution_count": 2,
      "outputs": [
        {
          "output_type": "stream",
          "name": "stdout",
          "text": [
            "Believer is sung by \n",
            "\t Imagine Dragons\n"
          ]
        }
      ]
    },
    {
      "cell_type": "code",
      "metadata": {
        "id": "YdQv3Fxw5_wh",
        "colab": {
          "base_uri": "https://localhost:8080/"
        },
        "outputId": "c5fb6c32-cb66-48cc-b2c4-b55113dbee37"
      },
      "source": [
        "from math import factorial\n",
        "\n",
        "factorial(4)"
      ],
      "execution_count": 3,
      "outputs": [
        {
          "output_type": "execute_result",
          "data": {
            "text/plain": [
              "24"
            ]
          },
          "metadata": {},
          "execution_count": 3
        }
      ]
    },
    {
      "cell_type": "code",
      "metadata": {
        "id": "XMy2PU_u6Dpm",
        "colab": {
          "base_uri": "https://localhost:8080/"
        },
        "outputId": "75f75769-b2a9-4b4a-b816-08ce3e6a5466"
      },
      "source": [
        "\n",
        "\n",
        "from math import pi,cos\n",
        "angle = pi/4.0\n",
        "print(cos(angle))"
      ],
      "execution_count": 4,
      "outputs": [
        {
          "output_type": "stream",
          "name": "stdout",
          "text": [
            "0.7071067811865476\n"
          ]
        }
      ]
    },
    {
      "cell_type": "markdown",
      "metadata": {
        "id": "NJdvPivG6VhP"
      },
      "source": [
        "After you fix the above cell, try restarting the kernel (**Runtime --> Restart runtime...**) and re-running the cell to make sure it works.\n"
      ]
    },
    {
      "cell_type": "markdown",
      "metadata": {
        "id": "M_oS7zjam4_g"
      },
      "source": [
        "# Markdown\n",
        "(1 point each)\n",
        "\n",
        "1. Write out some text in bold, italics, and both.\n",
        "\n",
        "1. Make a bullet list.\n",
        "\n",
        "1. Write out some (3 or more) kinematic equations from Gen Phys I using LaTeX. You can reference a more complete list of\n",
        "symbols [here](https://artofproblemsolving.com/wiki/index.php/LaTeX:Symbols)."
      ]
    },
    {
      "cell_type": "markdown",
      "source": [
        "**This is bold**\n",
        "*This is Italics*\n",
        "***This is bold and Italics***\n",
        "\n",
        "\n",
        "*   $V=V_0+at$\n",
        "*   $Δx=V_f t- \\left(\\frac{1}{2} \\right)at^2$\n",
        "*$a=\\left(\\frac{v_2-v_1}{t_2-t_1} \\right)$\n",
        "\n",
        "\n",
        "\n"
      ],
      "metadata": {
        "id": "FOlrQY-8td79"
      }
    },
    {
      "cell_type": "markdown",
      "source": [
        "# Formatted Printing\n",
        "(1 point each)\n",
        "\n",
        "* We can use formatted print statements to print out variables.\n",
        "* We will often want to print the results of a calculation, but we don't want to print out a million digits.  We can use formatted print statements to limit the precision of the numbers that we print.\n",
        "* See this link for more details https://docs.python.org/3/tutorial/inputoutput.html"
      ],
      "metadata": {
        "id": "z46N8yx4mJp1"
      }
    },
    {
      "cell_type": "code",
      "source": [
        "myratio = 10/3\n",
        "print(myratio)"
      ],
      "metadata": {
        "id": "jGUaqE_ZmIJh",
        "colab": {
          "base_uri": "https://localhost:8080/"
        },
        "outputId": "c6afda53-037e-43c3-ce57-6d3fb5e5a1ae"
      },
      "execution_count": 5,
      "outputs": [
        {
          "output_type": "stream",
          "name": "stdout",
          "text": [
            "3.3333333333333335\n"
          ]
        }
      ]
    },
    {
      "cell_type": "code",
      "source": [
        "# formatted print statement, we can reference the variable in brackets {}\n",
        "print(f\"my ratio = {myratio}\")"
      ],
      "metadata": {
        "id": "Q6SV8R-MnGwN",
        "colab": {
          "base_uri": "https://localhost:8080/"
        },
        "outputId": "14315209-25e0-4965-ae79-d3e93149bd0c"
      },
      "execution_count": 6,
      "outputs": [
        {
          "output_type": "stream",
          "name": "stdout",
          "text": [
            "my ratio = 3.3333333333333335\n"
          ]
        }
      ]
    },
    {
      "cell_type": "code",
      "source": [
        "# we can limit the number of decimal places that it prints\n",
        "# in the statement below, I ask python to print the first two digits after the decimal point\n",
        "print(f\"my ratio = {myratio:.2f}\")"
      ],
      "metadata": {
        "id": "CDcv5LfsnRS9",
        "colab": {
          "base_uri": "https://localhost:8080/"
        },
        "outputId": "47dd7cd0-a909-4cf0-c7df-842c4d82acd4"
      },
      "execution_count": 7,
      "outputs": [
        {
          "output_type": "stream",
          "name": "stdout",
          "text": [
            "my ratio = 3.33\n"
          ]
        }
      ]
    },
    {
      "cell_type": "code",
      "source": [
        "# print pi to 5 decimal places\n",
        "X = pi\n",
        "#print(X)\n",
        "print(f\"pi to 5 decimal places = {X:.5f}\")"
      ],
      "metadata": {
        "id": "my59mzWznlK_",
        "colab": {
          "base_uri": "https://localhost:8080/"
        },
        "outputId": "216de132-9926-481f-f6f0-d49b5b2cef59"
      },
      "execution_count": 40,
      "outputs": [
        {
          "output_type": "stream",
          "name": "stdout",
          "text": [
            "pi to 5 decimal places = 3.14159\n"
          ]
        }
      ]
    },
    {
      "cell_type": "markdown",
      "metadata": {
        "id": "3giruAXg1Es9"
      },
      "source": [
        "# Lists\n",
        "\n",
        "These exercises will allow you to test your understanding of Python lists.\n",
        "\n",
        "(1 point each)"
      ]
    },
    {
      "cell_type": "code",
      "metadata": {
        "id": "YZmDOp-a0_7z",
        "colab": {
          "base_uri": "https://localhost:8080/"
        },
        "outputId": "2ca74f57-8725-4d6b-bdee-f2dd61ba2fda"
      },
      "source": [
        "fib = [1,2,3,5,8,13,21,34,55,84]\n",
        "print(len(fib))"
      ],
      "execution_count": 42,
      "outputs": [
        {
          "output_type": "stream",
          "name": "stdout",
          "text": [
            "10\n"
          ]
        }
      ]
    },
    {
      "cell_type": "code",
      "metadata": {
        "id": "BQFNz7q91Osr",
        "colab": {
          "base_uri": "https://localhost:8080/"
        },
        "outputId": "e8903aae-ddde-4888-e81e-d9e326b2301c"
      },
      "source": [
        "# Print the second entry in the list fib.\n",
        "print(fib[1])"
      ],
      "execution_count": 43,
      "outputs": [
        {
          "output_type": "stream",
          "name": "stdout",
          "text": [
            "2\n"
          ]
        }
      ]
    },
    {
      "cell_type": "code",
      "metadata": {
        "id": "Uy59uKl51RKM",
        "colab": {
          "base_uri": "https://localhost:8080/"
        },
        "outputId": "ea5c6d8d-27a3-40fd-95a1-67b50a623046"
      },
      "source": [
        "# Print the 8th entry in the list fib.\n",
        "print(fib[7])"
      ],
      "execution_count": 44,
      "outputs": [
        {
          "output_type": "stream",
          "name": "stdout",
          "text": [
            "34\n"
          ]
        }
      ]
    },
    {
      "cell_type": "code",
      "metadata": {
        "id": "7SoOIZgu1SIs",
        "colab": {
          "base_uri": "https://localhost:8080/"
        },
        "outputId": "53dff0b9-dae1-4670-f282-3b05ffefb9be"
      },
      "source": [
        "# How many entries are there in the fib list?\n",
        "print(len(fib))"
      ],
      "execution_count": 45,
      "outputs": [
        {
          "output_type": "stream",
          "name": "stdout",
          "text": [
            "10\n"
          ]
        }
      ]
    },
    {
      "cell_type": "code",
      "metadata": {
        "id": "Hj-9YGFb1THE",
        "colab": {
          "base_uri": "https://localhost:8080/"
        },
        "outputId": "abca8fa7-e20c-43df-ab9f-f95288246f04"
      },
      "source": [
        "# How would you reference (using the proper index) the number 13 in the fib list?\n",
        "print(fib[5])"
      ],
      "execution_count": 47,
      "outputs": [
        {
          "output_type": "stream",
          "name": "stdout",
          "text": [
            "13\n"
          ]
        }
      ]
    },
    {
      "cell_type": "code",
      "metadata": {
        "id": "JcVRV3K51UZM"
      },
      "source": [
        "words = ['Once upon a ','midnight dreary ','while I pondered ','weak and weary']"
      ],
      "execution_count": 14,
      "outputs": []
    },
    {
      "cell_type": "code",
      "metadata": {
        "id": "JdPoBM6o1V31",
        "colab": {
          "base_uri": "https://localhost:8080/"
        },
        "outputId": "866b104e-c1b3-4a72-85f5-b2d778cf133a"
      },
      "source": [
        "# How many entries are there in the words list?\n",
        "print(len(words))"
      ],
      "execution_count": 48,
      "outputs": [
        {
          "output_type": "stream",
          "name": "stdout",
          "text": [
            "4\n"
          ]
        }
      ]
    },
    {
      "cell_type": "code",
      "metadata": {
        "id": "Enh1au3T1W5t",
        "colab": {
          "base_uri": "https://localhost:8080/"
        },
        "outputId": "1c5dda1e-da4a-4b99-f0c7-b1955f435ec8"
      },
      "source": [
        "# Print the 3rd entry in the words list?\n",
        "print(words[2])"
      ],
      "execution_count": 49,
      "outputs": [
        {
          "output_type": "stream",
          "name": "stdout",
          "text": [
            "while I pondered \n"
          ]
        }
      ]
    },
    {
      "cell_type": "code",
      "metadata": {
        "id": "M52P5_901Xme",
        "colab": {
          "base_uri": "https://localhost:8080/"
        },
        "outputId": "da8add17-1924-4779-f8a5-03d6306e1b22"
      },
      "source": [
        "# How many characters are there in the 3rd entry in the words list?\n",
        "print(len(words[2]))"
      ],
      "execution_count": 50,
      "outputs": [
        {
          "output_type": "stream",
          "name": "stdout",
          "text": [
            "17\n"
          ]
        }
      ]
    },
    {
      "cell_type": "code",
      "metadata": {
        "id": "1G_Au1KQ1YVV",
        "colab": {
          "base_uri": "https://localhost:8080/"
        },
        "outputId": "95616267-b179-4af7-81ca-eae97443dfba"
      },
      "source": [
        "# Make an empty list and use the append function to add to it the following numbers.\n",
        "# 16\n",
        "# 25\n",
        "# 121\n",
        "# 169\n",
        "# 225\n",
        "mylist=[]\n",
        "mylist.append(16)\n",
        "mylist.append(25)\n",
        "mylist.append(121)\n",
        "mylist.append(169)\n",
        "mylist.append(225)\n",
        "print(mylist)"
      ],
      "execution_count": 54,
      "outputs": [
        {
          "output_type": "stream",
          "name": "stdout",
          "text": [
            "[16, 25, 121, 169, 225]\n"
          ]
        }
      ]
    },
    {
      "cell_type": "code",
      "metadata": {
        "id": "F7JHfM771Z_-",
        "colab": {
          "base_uri": "https://localhost:8080/"
        },
        "outputId": "7bf56a9e-2a2e-4107-e5b6-9f2373fdafd1"
      },
      "source": [
        "# Make a list of two lists. Add to the first ``sub\" list the following words\n",
        "# 'One'\n",
        "# 'Two'\n",
        "# 'Three'\n",
        "#  and add to the second list\n",
        "# 1\n",
        "# 2\n",
        "# 3\n",
        "firstlist=('One','Two','Three')\n",
        "secondlist = [1,2,3]\n",
        "\n",
        "#firstlist.append(secondlist)\n"
      ],
      "execution_count": 61,
      "outputs": [
        {
          "output_type": "stream",
          "name": "stdout",
          "text": [
            "[1, 2, 3]\n"
          ]
        }
      ]
    },
    {
      "cell_type": "code",
      "metadata": {
        "id": "zEZju2mq1bbe",
        "colab": {
          "base_uri": "https://localhost:8080/"
        },
        "outputId": "9dbb2051-ad8f-4473-d748-5cd426895b7a"
      },
      "source": [
        "# Print out the entry with 'Two'\n",
        "print(firstlist[1])"
      ],
      "execution_count": 62,
      "outputs": [
        {
          "output_type": "stream",
          "name": "stdout",
          "text": [
            "Two\n"
          ]
        }
      ]
    },
    {
      "cell_type": "code",
      "metadata": {
        "id": "e5Y2hZw01cjN",
        "colab": {
          "base_uri": "https://localhost:8080/"
        },
        "outputId": "38b736dd-3554-4664-a8a8-1082f56d5e55"
      },
      "source": [
        "# Print out the entry with 3\n",
        "print(secondlist[2])"
      ],
      "execution_count": 63,
      "outputs": [
        {
          "output_type": "stream",
          "name": "stdout",
          "text": [
            "3\n"
          ]
        }
      ]
    },
    {
      "cell_type": "markdown",
      "metadata": {
        "id": "lkngXj8V1ffm"
      },
      "source": [
        "# Loops\n",
        "\n",
        "These exercises will allow you to test your understanding of loops in Python.\n",
        "\n",
        "(2 points each)"
      ]
    },
    {
      "cell_type": "code",
      "metadata": {
        "id": "GGiYk-9s1dUN",
        "colab": {
          "base_uri": "https://localhost:8080/"
        },
        "outputId": "f1d1d8f3-1540-4764-ace4-c7bae07d47ad"
      },
      "source": [
        "# Use a while loop to print out the even numbers from 0-10 (inclusive)\n",
        "numbers = [0,1,2,3,4,5,6,7,8,9,10]\n",
        "num = 0\n",
        "\n",
        "while(num<len(numbers)):\n",
        "  if numbers[num]%2==0:\n",
        "    print(num)\n",
        "  num+=1\n"
      ],
      "execution_count": 68,
      "outputs": [
        {
          "output_type": "stream",
          "name": "stdout",
          "text": [
            "0\n",
            "2\n",
            "4\n",
            "6\n",
            "8\n",
            "10\n"
          ]
        }
      ]
    },
    {
      "cell_type": "code",
      "metadata": {
        "id": "kp_qKAgB1jK3",
        "colab": {
          "base_uri": "https://localhost:8080/"
        },
        "outputId": "05e024d9-dd48-4e5a-a5d2-19a70770d5c2"
      },
      "source": [
        "# Use a for loop with the range function to print out the even numbers from 0-10 (inclusive)\n",
        "for i in range(11):\n",
        "  if i %2 ==0:\n",
        "    print(i)\n",
        "  i+=1"
      ],
      "execution_count": 66,
      "outputs": [
        {
          "output_type": "stream",
          "name": "stdout",
          "text": [
            "0\n",
            "2\n",
            "4\n",
            "6\n",
            "8\n",
            "10\n"
          ]
        }
      ]
    },
    {
      "cell_type": "code",
      "metadata": {
        "id": "x5JOczHi1j-t",
        "colab": {
          "base_uri": "https://localhost:8080/"
        },
        "outputId": "cc1e1da1-3c90-457a-f437-e62f4eaf2186"
      },
      "source": [
        "# Use a for loop to add up the multiples of 3 that are less than 100.\n",
        "total= 0\n",
        "for i in np.arange(100):\n",
        "  if i %3 ==0:\n",
        "      total+=i\n",
        "print(total)\n"
      ],
      "execution_count": 77,
      "outputs": [
        {
          "output_type": "stream",
          "name": "stdout",
          "text": [
            "1683\n"
          ]
        }
      ]
    },
    {
      "cell_type": "code",
      "metadata": {
        "id": "Gj025a-D1k3u",
        "colab": {
          "base_uri": "https://localhost:8080/"
        },
        "outputId": "f6e6d907-d59b-4b2e-f477-9193f085a69a"
      },
      "source": [
        "# Use a while loop to add up the multiples of 3 (starting at 0), while the total is less than 100.\n",
        "total = 0\n",
        "i = 0\n",
        "while i <= 100:\n",
        "  if i %3 == 0:\n",
        "    total +=1\n",
        "  i+=1\n",
        "print(total)\n",
        "\n",
        "\n"
      ],
      "execution_count": 90,
      "outputs": [
        {
          "output_type": "stream",
          "name": "stdout",
          "text": [
            "34\n"
          ]
        }
      ]
    },
    {
      "cell_type": "code",
      "metadata": {
        "id": "TO_DbqrOQwiW",
        "colab": {
          "base_uri": "https://localhost:8080/"
        },
        "outputId": "999503ae-df13-4050-822f-239adf69a8b6"
      },
      "source": [
        "fib = [1,2,3,5,8,13,21,34,55,84]\n",
        "\n",
        "# Loop over this list and print out the entries 2 ways:\n",
        "for i in range(len(fib)):\n",
        "  print(fib[i])\n",
        "for x in fib:\n",
        "  print(x)\n",
        "\n",
        "# * Just iterating over each entry in the list\n",
        "# * Using \"range\" and referencing the entries by index"
      ],
      "execution_count": 92,
      "outputs": [
        {
          "output_type": "stream",
          "name": "stdout",
          "text": [
            "1\n",
            "2\n",
            "3\n",
            "5\n",
            "8\n",
            "13\n",
            "21\n",
            "34\n",
            "55\n",
            "84\n",
            "1\n",
            "2\n",
            "3\n",
            "5\n",
            "8\n",
            "13\n",
            "21\n",
            "34\n",
            "55\n",
            "84\n"
          ]
        }
      ]
    },
    {
      "cell_type": "code",
      "metadata": {
        "id": "TZEkZjBL1l3t",
        "colab": {
          "base_uri": "https://localhost:8080/"
        },
        "outputId": "65ece649-0b98-4dff-94ec-40d1ff9530c7"
      },
      "source": [
        "# Put all the entries in the following list into a single string and print that string, using a for loop.\n",
        "words = ['Once upon a ','midnight dreary ','while I pondered ','weak and weary']\n",
        "mystring= ''\n",
        "for i in (words):\n",
        "  mystring += ' '+ i\n",
        "print(mystring)"
      ],
      "execution_count": 98,
      "outputs": [
        {
          "output_type": "stream",
          "name": "stdout",
          "text": [
            " Once upon a  midnight dreary  while I pondered  weak and weary\n"
          ]
        }
      ]
    },
    {
      "cell_type": "code",
      "metadata": {
        "id": "EP8hHaBz1nN2",
        "colab": {
          "base_uri": "https://localhost:8080/"
        },
        "outputId": "38cc2ccc-80c3-4840-ad09-28abc8ab61f4"
      },
      "source": [
        "# Fill a list with the first 1000 multiples of 13 (starting with 13). Verify your work by checking the length of the\n",
        "# list.\n",
        "mylist= [i*13 for i in range(1,1001)]\n",
        "print(mylist)\n",
        "print(len(mylist))\n"
      ],
      "execution_count": 100,
      "outputs": [
        {
          "output_type": "stream",
          "name": "stdout",
          "text": [
            "[13, 26, 39, 52, 65, 78, 91, 104, 117, 130, 143, 156, 169, 182, 195, 208, 221, 234, 247, 260, 273, 286, 299, 312, 325, 338, 351, 364, 377, 390, 403, 416, 429, 442, 455, 468, 481, 494, 507, 520, 533, 546, 559, 572, 585, 598, 611, 624, 637, 650, 663, 676, 689, 702, 715, 728, 741, 754, 767, 780, 793, 806, 819, 832, 845, 858, 871, 884, 897, 910, 923, 936, 949, 962, 975, 988, 1001, 1014, 1027, 1040, 1053, 1066, 1079, 1092, 1105, 1118, 1131, 1144, 1157, 1170, 1183, 1196, 1209, 1222, 1235, 1248, 1261, 1274, 1287, 1300, 1313, 1326, 1339, 1352, 1365, 1378, 1391, 1404, 1417, 1430, 1443, 1456, 1469, 1482, 1495, 1508, 1521, 1534, 1547, 1560, 1573, 1586, 1599, 1612, 1625, 1638, 1651, 1664, 1677, 1690, 1703, 1716, 1729, 1742, 1755, 1768, 1781, 1794, 1807, 1820, 1833, 1846, 1859, 1872, 1885, 1898, 1911, 1924, 1937, 1950, 1963, 1976, 1989, 2002, 2015, 2028, 2041, 2054, 2067, 2080, 2093, 2106, 2119, 2132, 2145, 2158, 2171, 2184, 2197, 2210, 2223, 2236, 2249, 2262, 2275, 2288, 2301, 2314, 2327, 2340, 2353, 2366, 2379, 2392, 2405, 2418, 2431, 2444, 2457, 2470, 2483, 2496, 2509, 2522, 2535, 2548, 2561, 2574, 2587, 2600, 2613, 2626, 2639, 2652, 2665, 2678, 2691, 2704, 2717, 2730, 2743, 2756, 2769, 2782, 2795, 2808, 2821, 2834, 2847, 2860, 2873, 2886, 2899, 2912, 2925, 2938, 2951, 2964, 2977, 2990, 3003, 3016, 3029, 3042, 3055, 3068, 3081, 3094, 3107, 3120, 3133, 3146, 3159, 3172, 3185, 3198, 3211, 3224, 3237, 3250, 3263, 3276, 3289, 3302, 3315, 3328, 3341, 3354, 3367, 3380, 3393, 3406, 3419, 3432, 3445, 3458, 3471, 3484, 3497, 3510, 3523, 3536, 3549, 3562, 3575, 3588, 3601, 3614, 3627, 3640, 3653, 3666, 3679, 3692, 3705, 3718, 3731, 3744, 3757, 3770, 3783, 3796, 3809, 3822, 3835, 3848, 3861, 3874, 3887, 3900, 3913, 3926, 3939, 3952, 3965, 3978, 3991, 4004, 4017, 4030, 4043, 4056, 4069, 4082, 4095, 4108, 4121, 4134, 4147, 4160, 4173, 4186, 4199, 4212, 4225, 4238, 4251, 4264, 4277, 4290, 4303, 4316, 4329, 4342, 4355, 4368, 4381, 4394, 4407, 4420, 4433, 4446, 4459, 4472, 4485, 4498, 4511, 4524, 4537, 4550, 4563, 4576, 4589, 4602, 4615, 4628, 4641, 4654, 4667, 4680, 4693, 4706, 4719, 4732, 4745, 4758, 4771, 4784, 4797, 4810, 4823, 4836, 4849, 4862, 4875, 4888, 4901, 4914, 4927, 4940, 4953, 4966, 4979, 4992, 5005, 5018, 5031, 5044, 5057, 5070, 5083, 5096, 5109, 5122, 5135, 5148, 5161, 5174, 5187, 5200, 5213, 5226, 5239, 5252, 5265, 5278, 5291, 5304, 5317, 5330, 5343, 5356, 5369, 5382, 5395, 5408, 5421, 5434, 5447, 5460, 5473, 5486, 5499, 5512, 5525, 5538, 5551, 5564, 5577, 5590, 5603, 5616, 5629, 5642, 5655, 5668, 5681, 5694, 5707, 5720, 5733, 5746, 5759, 5772, 5785, 5798, 5811, 5824, 5837, 5850, 5863, 5876, 5889, 5902, 5915, 5928, 5941, 5954, 5967, 5980, 5993, 6006, 6019, 6032, 6045, 6058, 6071, 6084, 6097, 6110, 6123, 6136, 6149, 6162, 6175, 6188, 6201, 6214, 6227, 6240, 6253, 6266, 6279, 6292, 6305, 6318, 6331, 6344, 6357, 6370, 6383, 6396, 6409, 6422, 6435, 6448, 6461, 6474, 6487, 6500, 6513, 6526, 6539, 6552, 6565, 6578, 6591, 6604, 6617, 6630, 6643, 6656, 6669, 6682, 6695, 6708, 6721, 6734, 6747, 6760, 6773, 6786, 6799, 6812, 6825, 6838, 6851, 6864, 6877, 6890, 6903, 6916, 6929, 6942, 6955, 6968, 6981, 6994, 7007, 7020, 7033, 7046, 7059, 7072, 7085, 7098, 7111, 7124, 7137, 7150, 7163, 7176, 7189, 7202, 7215, 7228, 7241, 7254, 7267, 7280, 7293, 7306, 7319, 7332, 7345, 7358, 7371, 7384, 7397, 7410, 7423, 7436, 7449, 7462, 7475, 7488, 7501, 7514, 7527, 7540, 7553, 7566, 7579, 7592, 7605, 7618, 7631, 7644, 7657, 7670, 7683, 7696, 7709, 7722, 7735, 7748, 7761, 7774, 7787, 7800, 7813, 7826, 7839, 7852, 7865, 7878, 7891, 7904, 7917, 7930, 7943, 7956, 7969, 7982, 7995, 8008, 8021, 8034, 8047, 8060, 8073, 8086, 8099, 8112, 8125, 8138, 8151, 8164, 8177, 8190, 8203, 8216, 8229, 8242, 8255, 8268, 8281, 8294, 8307, 8320, 8333, 8346, 8359, 8372, 8385, 8398, 8411, 8424, 8437, 8450, 8463, 8476, 8489, 8502, 8515, 8528, 8541, 8554, 8567, 8580, 8593, 8606, 8619, 8632, 8645, 8658, 8671, 8684, 8697, 8710, 8723, 8736, 8749, 8762, 8775, 8788, 8801, 8814, 8827, 8840, 8853, 8866, 8879, 8892, 8905, 8918, 8931, 8944, 8957, 8970, 8983, 8996, 9009, 9022, 9035, 9048, 9061, 9074, 9087, 9100, 9113, 9126, 9139, 9152, 9165, 9178, 9191, 9204, 9217, 9230, 9243, 9256, 9269, 9282, 9295, 9308, 9321, 9334, 9347, 9360, 9373, 9386, 9399, 9412, 9425, 9438, 9451, 9464, 9477, 9490, 9503, 9516, 9529, 9542, 9555, 9568, 9581, 9594, 9607, 9620, 9633, 9646, 9659, 9672, 9685, 9698, 9711, 9724, 9737, 9750, 9763, 9776, 9789, 9802, 9815, 9828, 9841, 9854, 9867, 9880, 9893, 9906, 9919, 9932, 9945, 9958, 9971, 9984, 9997, 10010, 10023, 10036, 10049, 10062, 10075, 10088, 10101, 10114, 10127, 10140, 10153, 10166, 10179, 10192, 10205, 10218, 10231, 10244, 10257, 10270, 10283, 10296, 10309, 10322, 10335, 10348, 10361, 10374, 10387, 10400, 10413, 10426, 10439, 10452, 10465, 10478, 10491, 10504, 10517, 10530, 10543, 10556, 10569, 10582, 10595, 10608, 10621, 10634, 10647, 10660, 10673, 10686, 10699, 10712, 10725, 10738, 10751, 10764, 10777, 10790, 10803, 10816, 10829, 10842, 10855, 10868, 10881, 10894, 10907, 10920, 10933, 10946, 10959, 10972, 10985, 10998, 11011, 11024, 11037, 11050, 11063, 11076, 11089, 11102, 11115, 11128, 11141, 11154, 11167, 11180, 11193, 11206, 11219, 11232, 11245, 11258, 11271, 11284, 11297, 11310, 11323, 11336, 11349, 11362, 11375, 11388, 11401, 11414, 11427, 11440, 11453, 11466, 11479, 11492, 11505, 11518, 11531, 11544, 11557, 11570, 11583, 11596, 11609, 11622, 11635, 11648, 11661, 11674, 11687, 11700, 11713, 11726, 11739, 11752, 11765, 11778, 11791, 11804, 11817, 11830, 11843, 11856, 11869, 11882, 11895, 11908, 11921, 11934, 11947, 11960, 11973, 11986, 11999, 12012, 12025, 12038, 12051, 12064, 12077, 12090, 12103, 12116, 12129, 12142, 12155, 12168, 12181, 12194, 12207, 12220, 12233, 12246, 12259, 12272, 12285, 12298, 12311, 12324, 12337, 12350, 12363, 12376, 12389, 12402, 12415, 12428, 12441, 12454, 12467, 12480, 12493, 12506, 12519, 12532, 12545, 12558, 12571, 12584, 12597, 12610, 12623, 12636, 12649, 12662, 12675, 12688, 12701, 12714, 12727, 12740, 12753, 12766, 12779, 12792, 12805, 12818, 12831, 12844, 12857, 12870, 12883, 12896, 12909, 12922, 12935, 12948, 12961, 12974, 12987, 13000]\n",
            "1000\n"
          ]
        }
      ]
    },
    {
      "cell_type": "markdown",
      "metadata": {
        "id": "i-AnL1XWnHpt"
      },
      "source": [
        "# Conditionals\n",
        "\n",
        "These exercises will allow you to test your understanding of conditional statments in Python.\n",
        "\n",
        "(2 points each)"
      ]
    },
    {
      "cell_type": "code",
      "metadata": {
        "id": "4D-yJ8nnyKeg",
        "colab": {
          "base_uri": "https://localhost:8080/"
        },
        "outputId": "6ec55dd6-266b-4543-f232-c27a3a676066"
      },
      "source": [
        "# Test to see what is larger (without printing the answers to the\n",
        "# multiplication to the screen)\n",
        "#\n",
        "# 25*32\n",
        "# or\n",
        "# 17*49\n",
        "#\n",
        "# Print which product is larger to the screen.\n",
        "if (25*32)> (17*49):\n",
        "  print(25*32)\n",
        "else:\n",
        "  print(17*49)"
      ],
      "execution_count": 102,
      "outputs": [
        {
          "output_type": "stream",
          "name": "stdout",
          "text": [
            "833\n"
          ]
        }
      ]
    },
    {
      "cell_type": "code",
      "metadata": {
        "id": "-m9-3H_eyZeX",
        "colab": {
          "base_uri": "https://localhost:8080/"
        },
        "outputId": "cd1586d2-db14-4ab0-ad33-cb95699e0ce8"
      },
      "source": [
        "# Test whether or not 18/2 is the same as 36/4\n",
        "if (18/2) == (36/4):\n",
        "  print('They are equal')\n",
        "else:\n",
        "  print('They are not equal')"
      ],
      "execution_count": 103,
      "outputs": [
        {
          "output_type": "stream",
          "name": "stdout",
          "text": [
            "They are equal\n"
          ]
        }
      ]
    },
    {
      "cell_type": "code",
      "metadata": {
        "id": "wfyraanJyalj",
        "colab": {
          "base_uri": "https://localhost:8080/"
        },
        "outputId": "675debda-ebf0-4fa0-ec4c-6c32dc0c9692"
      },
      "source": [
        "# Test whether or not 18/2 is the same as 36.0/4.0\n",
        "if (18/2) == (36.0/4.0):\n",
        "  print('They are equal')\n",
        "else:\n",
        "  print('They are not equal')"
      ],
      "execution_count": 104,
      "outputs": [
        {
          "output_type": "stream",
          "name": "stdout",
          "text": [
            "They are equal\n"
          ]
        }
      ]
    },
    {
      "cell_type": "code",
      "metadata": {
        "id": "aUJ3IR5qybeu",
        "colab": {
          "base_uri": "https://localhost:8080/"
        },
        "outputId": "6069daf7-5fa4-4dea-d000-f45a26d22147"
      },
      "source": [
        "# Test whether or not 1/2 is the same as 1.0/2.0\n",
        "if (1/2) == (1.0/2.0):\n",
        "  print('They are equal')\n",
        "else:\n",
        "  print('They are not equal')"
      ],
      "execution_count": 105,
      "outputs": [
        {
          "output_type": "stream",
          "name": "stdout",
          "text": [
            "They are equal\n"
          ]
        }
      ]
    },
    {
      "cell_type": "code",
      "metadata": {
        "id": "S9aKmmQ8yc4Q",
        "colab": {
          "base_uri": "https://localhost:8080/"
        },
        "outputId": "957c0529-2d21-45a6-c9b9-66b97db579ef"
      },
      "source": [
        "# Are these two strings equal? If not write some code to figure out what is different.\n",
        "x = \"00000000000000000000000000000000000000000000000000\"\n",
        "y = \"00000000000000000000000000000000000000000000O00000\"\n",
        "difference = []\n",
        "for i in range(min(len(x),len(y))):\n",
        "  if x[i] != y[i]:\n",
        "    difference.append((i,x[i],y[i]))\n",
        "if difference:\n",
        "  print('difference found:')\n",
        "  for diff in difference:\n",
        "    ind, charc1, charc2 = diff\n",
        "    print(f'At index,{ind},{charc1} in x and {charc2} in y')\n",
        "else:\n",
        "  print('there is no difference')"
      ],
      "execution_count": 110,
      "outputs": [
        {
          "output_type": "stream",
          "name": "stdout",
          "text": [
            "difference found:\n",
            "At index,44,0 in x and O in y\n"
          ]
        }
      ]
    },
    {
      "cell_type": "markdown",
      "metadata": {
        "id": "zXiidCtvnwCq"
      },
      "source": [
        "# Functions\n",
        "\n",
        "Write a function called ```feet2miles``` that takes in 1 argument, ```feet``` and returns the equivalent number of miles. Set the default value of feet to be 100.\n",
        "\n",
        "For reference, there are 5280 feet in a mile.\n",
        "\n",
        "(5 points)"
      ]
    },
    {
      "cell_type": "code",
      "metadata": {
        "id": "Db55VxfCnw3B",
        "colab": {
          "base_uri": "https://localhost:8080/"
        },
        "outputId": "cdc4edfa-3c5a-4447-83c2-86ab61576841"
      },
      "source": [
        "# Your code here\n",
        "def feet2miles(feet):\n",
        "  return feet/5280\n",
        "\n",
        "\n",
        "\n",
        "\n",
        "# This part is for testing the above.\n",
        "\n",
        "m = feet2miles(5280)\n",
        "print(m) # Should be 1\n",
        "\n",
        "m = feet2miles(1)\n",
        "print(m)\n",
        "\n",
        "m = feet2miles(1000)\n",
        "print(m)"
      ],
      "execution_count": 113,
      "outputs": [
        {
          "output_type": "stream",
          "name": "stdout",
          "text": [
            "1.0\n",
            "0.0001893939393939394\n",
            "0.1893939393939394\n"
          ]
        }
      ]
    },
    {
      "cell_type": "code",
      "source": [
        "# Make an array of values in feet, ranging from 1000 to 20000, in steps of 1000\n",
        "# using the np.arange function\n",
        "myfeet = np.arange(1000,2001,1000)\n",
        "print(myfeet)\n",
        "\n",
        "# Use your feet2miles function to create a second array,\n",
        "# which is the equivalent of myfeet but is instead mymiles\n",
        "# this should be only one line of code!\n",
        "mymiles= np.array([feet2miles(myfeet)])\n",
        "print(mymiles)\n"
      ],
      "metadata": {
        "id": "eXKYot3Tprt4",
        "colab": {
          "base_uri": "https://localhost:8080/"
        },
        "outputId": "c4ff2fea-bc90-4470-bfbf-27f9471aee8e"
      },
      "execution_count": 121,
      "outputs": [
        {
          "output_type": "stream",
          "name": "stdout",
          "text": [
            "[1000 2000]\n",
            "[[0.18939394 0.37878788]]\n"
          ]
        }
      ]
    },
    {
      "cell_type": "markdown",
      "metadata": {
        "id": "ZfpbRMrF0gc1"
      },
      "source": [
        "# Plotting"
      ]
    },
    {
      "cell_type": "markdown",
      "metadata": {
        "id": "LWKVeMFsHR1R"
      },
      "source": [
        "## Kinematics\n",
        "\n",
        "(5 points)\n",
        "\n",
        "Suppose you are standing on a cliff 50 meters high. You throw a ball almost straight up with a velocity of 15 m/s. It misses the edge of the cliff on the way down so it will continue all the way to the ground below.\n",
        "\n",
        "Neglecting air resistance, solve for the height, velocity, and acceleration of the ball as a function of time.  Write your solution on a whiteboard and check your results with your instructor.\n",
        "\n",
        "Once you have your solution approved, write the functions that you determined here.  Be sure to use the latex/markup features to display the equations in a nice format.   (2 points)\n",
        "\n",
        "**YOUR EQUATIONS GO HERE**\n",
        "\n",
        "Then make some plots of the (6 points)\n",
        "\n",
        "* Acceleration vs. time\n",
        "* Velocity vs. time\n",
        "* Position vs. time\n",
        "\n",
        "Make these plots for the time period when it is thrown in the air until it lands on the ground below."
      ]
    },
    {
      "cell_type": "markdown",
      "source": [
        "$s(t)= s_0 + v_01 + \\frac{1}{2}at^2$\n",
        "\n",
        "$v(t) = v_0 +at$\n",
        "\n",
        "$ a = -9.8$"
      ],
      "metadata": {
        "id": "cyeq7VzeK6qz"
      }
    },
    {
      "cell_type": "code",
      "metadata": {
        "id": "5lOCmSa8oLL3"
      },
      "source": [
        "# Your code here\n",
        "s0 = 50\n",
        "v0 = 15\n",
        "a = -9.8\n",
        "t = np.linspace(0,5,100)\n",
        "def height"
      ],
      "execution_count": 128,
      "outputs": []
    },
    {
      "cell_type": "markdown",
      "source": [
        "## Make a plot of $sin(\\theta)$ and $cos(\\theta)$\n",
        "\n",
        "(5 points)\n",
        "\n",
        "* make a plot of $sin(\\theta)$ and $cos(\\theta)$ as a function of theta, $\\theta$.\n",
        "* theta should be in radians, with theta ranging from $0 \\le \\theta \\le 2\\pi$. (Hint: use np.linspace to create the theta array, with 100 elements.)\n",
        "* make a plot with 1 column and two rows, and plot sin in the top row and cosine in the bottom row.  You can use plt.subplot to make multi-panel plots.\n",
        "\n",
        "```\n",
        "plt.subplot(2,1,1)\n",
        "```\n",
        "* NOTE: for this exercise, you should use the trig functions from numpy, e.g. np.sin and np.cos.\n",
        "\n",
        "(4 points)"
      ],
      "metadata": {
        "id": "j2mlCHh4oMhx"
      }
    },
    {
      "cell_type": "code",
      "source": [
        "# Your code here"
      ],
      "metadata": {
        "id": "FA-1b2RGo9Dz"
      },
      "execution_count": 129,
      "outputs": []
    }
  ]
}